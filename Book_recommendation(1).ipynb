{
  "cells": [
    {
      "cell_type": "code",
      "execution_count": 24,
      "metadata": {
        "id": "F9HrroyXM7Zh"
      },
      "outputs": [],
      "source": [
        "## importing neccessary libraries\n",
        "import numpy as np\n",
        "import pandas as pd\n",
        "import pickle\n",
        "import requests\n",
        "\n",
        "from sklearn.metrics.pairwise import cosine_similarity\n",
        "from sklearn.feature_extraction.text import CountVectorizer"
      ]
    },
    {
      "cell_type": "code",
      "execution_count": 26,
      "metadata": {
        "colab": {
          "base_uri": "https://localhost:8080/",
          "height": 250
        },
        "id": "la8r1ZJiNl0V",
        "outputId": "a15fb78a-1ad2-43f9-b8a8-a0293312800b"
      },
      "outputs": [
        {
          "output_type": "execute_result",
          "data": {
            "text/plain": [
              "     index                         Title              Author    Genre  \\\n",
              "159    206      Structure and Randomness        Tao, Terence  science   \n",
              "160    207  Image Processing with MATLAB       Eddins, Steve     tech   \n",
              "161    208                   Animal Farm      Orwell, George  fiction   \n",
              "162    209                     The Idiot  Dostoevsky, Fyodor  fiction   \n",
              "163    210             A Christmas Carol    Dickens, Charles  fiction   \n",
              "\n",
              "              SubGenre  Height Publisher  \\\n",
              "159        mathematics     252       NaN   \n",
              "160  signal_processing     241       NaN   \n",
              "161            classic     180       NaN   \n",
              "162            classic     197       NaN   \n",
              "163            classic     196       NaN   \n",
              "\n",
              "                                                  Path  \n",
              "159  https://images-na.ssl-images-amazon.com/images...  \n",
              "160  https://images-na.ssl-images-amazon.com/images...  \n",
              "161  https://images-na.ssl-images-amazon.com/images...  \n",
              "162  https://images-na.ssl-images-amazon.com/images...  \n",
              "163  https://d28hgpri8am2if.cloudfront.net/book_ima...  "
            ],
            "text/html": [
              "\n",
              "  <div id=\"df-22e37637-ebd9-4ace-b42d-83d6e0fd0ba6\">\n",
              "    <div class=\"colab-df-container\">\n",
              "      <div>\n",
              "<style scoped>\n",
              "    .dataframe tbody tr th:only-of-type {\n",
              "        vertical-align: middle;\n",
              "    }\n",
              "\n",
              "    .dataframe tbody tr th {\n",
              "        vertical-align: top;\n",
              "    }\n",
              "\n",
              "    .dataframe thead th {\n",
              "        text-align: right;\n",
              "    }\n",
              "</style>\n",
              "<table border=\"1\" class=\"dataframe\">\n",
              "  <thead>\n",
              "    <tr style=\"text-align: right;\">\n",
              "      <th></th>\n",
              "      <th>index</th>\n",
              "      <th>Title</th>\n",
              "      <th>Author</th>\n",
              "      <th>Genre</th>\n",
              "      <th>SubGenre</th>\n",
              "      <th>Height</th>\n",
              "      <th>Publisher</th>\n",
              "      <th>Path</th>\n",
              "    </tr>\n",
              "  </thead>\n",
              "  <tbody>\n",
              "    <tr>\n",
              "      <th>159</th>\n",
              "      <td>206</td>\n",
              "      <td>Structure and Randomness</td>\n",
              "      <td>Tao, Terence</td>\n",
              "      <td>science</td>\n",
              "      <td>mathematics</td>\n",
              "      <td>252</td>\n",
              "      <td>NaN</td>\n",
              "      <td>https://images-na.ssl-images-amazon.com/images...</td>\n",
              "    </tr>\n",
              "    <tr>\n",
              "      <th>160</th>\n",
              "      <td>207</td>\n",
              "      <td>Image Processing with MATLAB</td>\n",
              "      <td>Eddins, Steve</td>\n",
              "      <td>tech</td>\n",
              "      <td>signal_processing</td>\n",
              "      <td>241</td>\n",
              "      <td>NaN</td>\n",
              "      <td>https://images-na.ssl-images-amazon.com/images...</td>\n",
              "    </tr>\n",
              "    <tr>\n",
              "      <th>161</th>\n",
              "      <td>208</td>\n",
              "      <td>Animal Farm</td>\n",
              "      <td>Orwell, George</td>\n",
              "      <td>fiction</td>\n",
              "      <td>classic</td>\n",
              "      <td>180</td>\n",
              "      <td>NaN</td>\n",
              "      <td>https://images-na.ssl-images-amazon.com/images...</td>\n",
              "    </tr>\n",
              "    <tr>\n",
              "      <th>162</th>\n",
              "      <td>209</td>\n",
              "      <td>The Idiot</td>\n",
              "      <td>Dostoevsky, Fyodor</td>\n",
              "      <td>fiction</td>\n",
              "      <td>classic</td>\n",
              "      <td>197</td>\n",
              "      <td>NaN</td>\n",
              "      <td>https://images-na.ssl-images-amazon.com/images...</td>\n",
              "    </tr>\n",
              "    <tr>\n",
              "      <th>163</th>\n",
              "      <td>210</td>\n",
              "      <td>A Christmas Carol</td>\n",
              "      <td>Dickens, Charles</td>\n",
              "      <td>fiction</td>\n",
              "      <td>classic</td>\n",
              "      <td>196</td>\n",
              "      <td>NaN</td>\n",
              "      <td>https://d28hgpri8am2if.cloudfront.net/book_ima...</td>\n",
              "    </tr>\n",
              "  </tbody>\n",
              "</table>\n",
              "</div>\n",
              "      <button class=\"colab-df-convert\" onclick=\"convertToInteractive('df-22e37637-ebd9-4ace-b42d-83d6e0fd0ba6')\"\n",
              "              title=\"Convert this dataframe to an interactive table.\"\n",
              "              style=\"display:none;\">\n",
              "        \n",
              "  <svg xmlns=\"http://www.w3.org/2000/svg\" height=\"24px\"viewBox=\"0 0 24 24\"\n",
              "       width=\"24px\">\n",
              "    <path d=\"M0 0h24v24H0V0z\" fill=\"none\"/>\n",
              "    <path d=\"M18.56 5.44l.94 2.06.94-2.06 2.06-.94-2.06-.94-.94-2.06-.94 2.06-2.06.94zm-11 1L8.5 8.5l.94-2.06 2.06-.94-2.06-.94L8.5 2.5l-.94 2.06-2.06.94zm10 10l.94 2.06.94-2.06 2.06-.94-2.06-.94-.94-2.06-.94 2.06-2.06.94z\"/><path d=\"M17.41 7.96l-1.37-1.37c-.4-.4-.92-.59-1.43-.59-.52 0-1.04.2-1.43.59L10.3 9.45l-7.72 7.72c-.78.78-.78 2.05 0 2.83L4 21.41c.39.39.9.59 1.41.59.51 0 1.02-.2 1.41-.59l7.78-7.78 2.81-2.81c.8-.78.8-2.07 0-2.86zM5.41 20L4 18.59l7.72-7.72 1.47 1.35L5.41 20z\"/>\n",
              "  </svg>\n",
              "      </button>\n",
              "      \n",
              "  <style>\n",
              "    .colab-df-container {\n",
              "      display:flex;\n",
              "      flex-wrap:wrap;\n",
              "      gap: 12px;\n",
              "    }\n",
              "\n",
              "    .colab-df-convert {\n",
              "      background-color: #E8F0FE;\n",
              "      border: none;\n",
              "      border-radius: 50%;\n",
              "      cursor: pointer;\n",
              "      display: none;\n",
              "      fill: #1967D2;\n",
              "      height: 32px;\n",
              "      padding: 0 0 0 0;\n",
              "      width: 32px;\n",
              "    }\n",
              "\n",
              "    .colab-df-convert:hover {\n",
              "      background-color: #E2EBFA;\n",
              "      box-shadow: 0px 1px 2px rgba(60, 64, 67, 0.3), 0px 1px 3px 1px rgba(60, 64, 67, 0.15);\n",
              "      fill: #174EA6;\n",
              "    }\n",
              "\n",
              "    [theme=dark] .colab-df-convert {\n",
              "      background-color: #3B4455;\n",
              "      fill: #D2E3FC;\n",
              "    }\n",
              "\n",
              "    [theme=dark] .colab-df-convert:hover {\n",
              "      background-color: #434B5C;\n",
              "      box-shadow: 0px 1px 3px 1px rgba(0, 0, 0, 0.15);\n",
              "      filter: drop-shadow(0px 1px 2px rgba(0, 0, 0, 0.3));\n",
              "      fill: #FFFFFF;\n",
              "    }\n",
              "  </style>\n",
              "\n",
              "      <script>\n",
              "        const buttonEl =\n",
              "          document.querySelector('#df-22e37637-ebd9-4ace-b42d-83d6e0fd0ba6 button.colab-df-convert');\n",
              "        buttonEl.style.display =\n",
              "          google.colab.kernel.accessAllowed ? 'block' : 'none';\n",
              "\n",
              "        async function convertToInteractive(key) {\n",
              "          const element = document.querySelector('#df-22e37637-ebd9-4ace-b42d-83d6e0fd0ba6');\n",
              "          const dataTable =\n",
              "            await google.colab.kernel.invokeFunction('convertToInteractive',\n",
              "                                                     [key], {});\n",
              "          if (!dataTable) return;\n",
              "\n",
              "          const docLinkHtml = 'Like what you see? Visit the ' +\n",
              "            '<a target=\"_blank\" href=https://colab.research.google.com/notebooks/data_table.ipynb>data table notebook</a>'\n",
              "            + ' to learn more about interactive tables.';\n",
              "          element.innerHTML = '';\n",
              "          dataTable['output_type'] = 'display_data';\n",
              "          await google.colab.output.renderOutput(dataTable, element);\n",
              "          const docLink = document.createElement('div');\n",
              "          docLink.innerHTML = docLinkHtml;\n",
              "          element.appendChild(docLink);\n",
              "        }\n",
              "      </script>\n",
              "    </div>\n",
              "  </div>\n",
              "  "
            ]
          },
          "metadata": {},
          "execution_count": 26
        }
      ],
      "source": [
        "## loading in the dataset \n",
        "books_new=pd.read_csv(\"books_new.csv\")\n",
        "books_new=pd.concat([books_new[:107],books_new[154:]])\n",
        "books_new.reset_index(inplace=True)\n",
        "books_new.tail()"
      ]
    },
    {
      "cell_type": "code",
      "execution_count": 27,
      "metadata": {
        "colab": {
          "base_uri": "https://localhost:8080/"
        },
        "id": "XBnGtZ8ZR97i",
        "outputId": "dd7a2bbe-a8bb-48cb-deae-3d329e6c1df9"
      },
      "outputs": [
        {
          "output_type": "execute_result",
          "data": {
            "text/plain": [
              "(164, 8)"
            ]
          },
          "metadata": {},
          "execution_count": 27
        }
      ],
      "source": [
        "books_new.shape"
      ]
    },
    {
      "cell_type": "code",
      "execution_count": 28,
      "metadata": {
        "colab": {
          "base_uri": "https://localhost:8080/"
        },
        "id": "JvRquTuyNz-i",
        "outputId": "9ac9f925-2df0-4ddf-9d6e-14540582a251"
      },
      "outputs": [
        {
          "output_type": "execute_result",
          "data": {
            "text/plain": [
              "index         0\n",
              "Title         0\n",
              "Author        5\n",
              "Genre         0\n",
              "SubGenre      0\n",
              "Height        0\n",
              "Publisher    61\n",
              "Path          1\n",
              "dtype: int64"
            ]
          },
          "metadata": {},
          "execution_count": 28
        }
      ],
      "source": [
        "## checking null values\n",
        "books_new.isnull().sum()"
      ]
    },
    {
      "cell_type": "code",
      "execution_count": 29,
      "metadata": {
        "colab": {
          "base_uri": "https://localhost:8080/"
        },
        "id": "b1UkTsMZOGei",
        "outputId": "cf45c65e-ad15-4e4b-c217-86f9ed4eb56b"
      },
      "outputs": [
        {
          "output_type": "execute_result",
          "data": {
            "text/plain": [
              "index         0.000000\n",
              "Title         0.000000\n",
              "Author        3.048780\n",
              "Genre         0.000000\n",
              "SubGenre      0.000000\n",
              "Height        0.000000\n",
              "Publisher    37.195122\n",
              "Path          0.609756\n",
              "dtype: float64"
            ]
          },
          "metadata": {},
          "execution_count": 29
        }
      ],
      "source": [
        "## percentage of missing values\n",
        "books_new.isnull().sum()/books_new.shape[0] *100"
      ]
    },
    {
      "cell_type": "code",
      "execution_count": 30,
      "metadata": {
        "id": "bWBUdrdbiuY8"
      },
      "outputs": [],
      "source": [
        "## replacing missing values \n",
        "books_new[\"Author\"].fillna(value=\"Anonymous\",inplace=True)\n",
        "books_new[\"Publisher\"].fillna(\"Unknown\",inplace=True)"
      ]
    },
    {
      "cell_type": "code",
      "execution_count": 31,
      "metadata": {
        "colab": {
          "base_uri": "https://localhost:8080/"
        },
        "id": "cBcBHqTnSNsR",
        "outputId": "34237539-a230-450e-abc8-8994e4a0d875"
      },
      "outputs": [
        {
          "output_type": "execute_result",
          "data": {
            "text/plain": [
              "0"
            ]
          },
          "metadata": {},
          "execution_count": 31
        }
      ],
      "source": [
        "## checking if there is any duplicated values\n",
        "books_new.duplicated().sum()"
      ]
    },
    {
      "cell_type": "code",
      "execution_count": 32,
      "metadata": {
        "colab": {
          "base_uri": "https://localhost:8080/"
        },
        "id": "Mgx61ODxOMhE",
        "outputId": "a45345ca-3e67-4d8c-b376-e985f482b60b"
      },
      "outputs": [
        {
          "output_type": "execute_result",
          "data": {
            "text/plain": [
              "novel                32\n",
              "history              27\n",
              "classic              22\n",
              "data_science         13\n",
              "computer_science     10\n",
              "economics             9\n",
              "signal_processing     7\n",
              "physics               7\n",
              "autobiography         7\n",
              "mathematics           6\n",
              "misc                  5\n",
              "philosophy            4\n",
              "psychology            3\n",
              "objectivism           3\n",
              "science               2\n",
              "education             2\n",
              "legal                 2\n",
              "trivia                1\n",
              "poetry                1\n",
              "comic                 1\n",
              "Name: SubGenre, dtype: int64"
            ]
          },
          "metadata": {},
          "execution_count": 32
        }
      ],
      "source": [
        "## seeing the book count in each genre\n",
        "books_new['SubGenre'].value_counts()"
      ]
    },
    {
      "cell_type": "code",
      "execution_count": 33,
      "metadata": {
        "colab": {
          "base_uri": "https://localhost:8080/"
        },
        "id": "LY6e_wX6Q5Pb",
        "outputId": "59e0c92a-8805-4e25-fd0d-e6c8dcbd95f6"
      },
      "outputs": [
        {
          "output_type": "execute_result",
          "data": {
            "text/plain": [
              "array(['Wiley', 'Penguin', 'HarperCollins', 'Springer',\n",
              "       'Orient Blackswan', 'CRC', 'Apress', 'Random House', 'Bodley Head',\n",
              "       'MIT Press', \"O'Reilly\", 'HBA', 'Rupa', 'Transworld', 'Pan',\n",
              "       'Hyperion', 'Pocket', 'Mauj', 'BBC', 'Elsevier', 'Pearson',\n",
              "       'Prentice Hall', 'TMH', 'Picador', 'Unknown', 'vikas', 'Routledge',\n",
              "       'FreePress', 'Jaico', 'Vintage'], dtype=object)"
            ]
          },
          "metadata": {},
          "execution_count": 33
        }
      ],
      "source": [
        "## Book Publisher names\n",
        "books_new.Publisher.unique()"
      ]
    },
    {
      "cell_type": "code",
      "execution_count": 34,
      "metadata": {
        "id": "AXOr9hZxOc9k"
      },
      "outputs": [],
      "source": [
        "## content-based recommender system "
      ]
    },
    {
      "cell_type": "code",
      "execution_count": 35,
      "metadata": {
        "id": "vQezmqU9jeXf"
      },
      "outputs": [],
      "source": [
        "books_new[\"Publisher\"] = books_new[\"Publisher\"].apply(lambda x: x.replace(\" \",\"\"))\n",
        "\n",
        "books_new[\"Author\"] = books_new[\"Author\"].apply(lambda x: x.replace(\" \",\"\"))\n",
        "books_new[\"Author\"] = books_new[\"Author\"].apply(lambda x: x.replace(\",\",\" \"))\n",
        "\n",
        "books_new[\"Tags\"]= books_new[\"Genre\"]+\" \"+books_new['SubGenre']+\" \"+books_new[\"Author\"]+\" \"+books_new[\"Publisher\"]"
      ]
    },
    {
      "cell_type": "code",
      "execution_count": 36,
      "metadata": {
        "colab": {
          "base_uri": "https://localhost:8080/",
          "height": 240
        },
        "id": "zEOivbkyVw9q",
        "outputId": "ee300e82-3bb7-40b4-fcd7-5df80d5c3a9e"
      },
      "outputs": [
        {
          "output_type": "execute_result",
          "data": {
            "text/plain": [
              "   index                     Title           Author Genre           SubGenre  \\\n",
              "0      0  Fundamentals of Wavelets  Goswami Jaideva  tech  signal_processing   \n",
              "1      1                Data Smart     Foreman John  tech       data_science   \n",
              "2      2  God Created the Integers  Hawking Stephen  tech        mathematics   \n",
              "\n",
              "   Height Publisher                                               Path  \\\n",
              "0     228     Wiley  https://m.media-amazon.com/images/I/517bE6-Wub...   \n",
              "1     235     Wiley  https://images-na.ssl-images-amazon.com/images...   \n",
              "2     197   Penguin  https://sslimages.shoppersstop.com/B8AC9759D45...   \n",
              "\n",
              "                                           Tags  \n",
              "0  tech signal_processing Goswami Jaideva Wiley  \n",
              "1          tech data_science Foreman John Wiley  \n",
              "2      tech mathematics Hawking Stephen Penguin  "
            ],
            "text/html": [
              "\n",
              "  <div id=\"df-0f2298dd-3a51-45f9-8e45-d1ec40253985\">\n",
              "    <div class=\"colab-df-container\">\n",
              "      <div>\n",
              "<style scoped>\n",
              "    .dataframe tbody tr th:only-of-type {\n",
              "        vertical-align: middle;\n",
              "    }\n",
              "\n",
              "    .dataframe tbody tr th {\n",
              "        vertical-align: top;\n",
              "    }\n",
              "\n",
              "    .dataframe thead th {\n",
              "        text-align: right;\n",
              "    }\n",
              "</style>\n",
              "<table border=\"1\" class=\"dataframe\">\n",
              "  <thead>\n",
              "    <tr style=\"text-align: right;\">\n",
              "      <th></th>\n",
              "      <th>index</th>\n",
              "      <th>Title</th>\n",
              "      <th>Author</th>\n",
              "      <th>Genre</th>\n",
              "      <th>SubGenre</th>\n",
              "      <th>Height</th>\n",
              "      <th>Publisher</th>\n",
              "      <th>Path</th>\n",
              "      <th>Tags</th>\n",
              "    </tr>\n",
              "  </thead>\n",
              "  <tbody>\n",
              "    <tr>\n",
              "      <th>0</th>\n",
              "      <td>0</td>\n",
              "      <td>Fundamentals of Wavelets</td>\n",
              "      <td>Goswami Jaideva</td>\n",
              "      <td>tech</td>\n",
              "      <td>signal_processing</td>\n",
              "      <td>228</td>\n",
              "      <td>Wiley</td>\n",
              "      <td>https://m.media-amazon.com/images/I/517bE6-Wub...</td>\n",
              "      <td>tech signal_processing Goswami Jaideva Wiley</td>\n",
              "    </tr>\n",
              "    <tr>\n",
              "      <th>1</th>\n",
              "      <td>1</td>\n",
              "      <td>Data Smart</td>\n",
              "      <td>Foreman John</td>\n",
              "      <td>tech</td>\n",
              "      <td>data_science</td>\n",
              "      <td>235</td>\n",
              "      <td>Wiley</td>\n",
              "      <td>https://images-na.ssl-images-amazon.com/images...</td>\n",
              "      <td>tech data_science Foreman John Wiley</td>\n",
              "    </tr>\n",
              "    <tr>\n",
              "      <th>2</th>\n",
              "      <td>2</td>\n",
              "      <td>God Created the Integers</td>\n",
              "      <td>Hawking Stephen</td>\n",
              "      <td>tech</td>\n",
              "      <td>mathematics</td>\n",
              "      <td>197</td>\n",
              "      <td>Penguin</td>\n",
              "      <td>https://sslimages.shoppersstop.com/B8AC9759D45...</td>\n",
              "      <td>tech mathematics Hawking Stephen Penguin</td>\n",
              "    </tr>\n",
              "  </tbody>\n",
              "</table>\n",
              "</div>\n",
              "      <button class=\"colab-df-convert\" onclick=\"convertToInteractive('df-0f2298dd-3a51-45f9-8e45-d1ec40253985')\"\n",
              "              title=\"Convert this dataframe to an interactive table.\"\n",
              "              style=\"display:none;\">\n",
              "        \n",
              "  <svg xmlns=\"http://www.w3.org/2000/svg\" height=\"24px\"viewBox=\"0 0 24 24\"\n",
              "       width=\"24px\">\n",
              "    <path d=\"M0 0h24v24H0V0z\" fill=\"none\"/>\n",
              "    <path d=\"M18.56 5.44l.94 2.06.94-2.06 2.06-.94-2.06-.94-.94-2.06-.94 2.06-2.06.94zm-11 1L8.5 8.5l.94-2.06 2.06-.94-2.06-.94L8.5 2.5l-.94 2.06-2.06.94zm10 10l.94 2.06.94-2.06 2.06-.94-2.06-.94-.94-2.06-.94 2.06-2.06.94z\"/><path d=\"M17.41 7.96l-1.37-1.37c-.4-.4-.92-.59-1.43-.59-.52 0-1.04.2-1.43.59L10.3 9.45l-7.72 7.72c-.78.78-.78 2.05 0 2.83L4 21.41c.39.39.9.59 1.41.59.51 0 1.02-.2 1.41-.59l7.78-7.78 2.81-2.81c.8-.78.8-2.07 0-2.86zM5.41 20L4 18.59l7.72-7.72 1.47 1.35L5.41 20z\"/>\n",
              "  </svg>\n",
              "      </button>\n",
              "      \n",
              "  <style>\n",
              "    .colab-df-container {\n",
              "      display:flex;\n",
              "      flex-wrap:wrap;\n",
              "      gap: 12px;\n",
              "    }\n",
              "\n",
              "    .colab-df-convert {\n",
              "      background-color: #E8F0FE;\n",
              "      border: none;\n",
              "      border-radius: 50%;\n",
              "      cursor: pointer;\n",
              "      display: none;\n",
              "      fill: #1967D2;\n",
              "      height: 32px;\n",
              "      padding: 0 0 0 0;\n",
              "      width: 32px;\n",
              "    }\n",
              "\n",
              "    .colab-df-convert:hover {\n",
              "      background-color: #E2EBFA;\n",
              "      box-shadow: 0px 1px 2px rgba(60, 64, 67, 0.3), 0px 1px 3px 1px rgba(60, 64, 67, 0.15);\n",
              "      fill: #174EA6;\n",
              "    }\n",
              "\n",
              "    [theme=dark] .colab-df-convert {\n",
              "      background-color: #3B4455;\n",
              "      fill: #D2E3FC;\n",
              "    }\n",
              "\n",
              "    [theme=dark] .colab-df-convert:hover {\n",
              "      background-color: #434B5C;\n",
              "      box-shadow: 0px 1px 3px 1px rgba(0, 0, 0, 0.15);\n",
              "      filter: drop-shadow(0px 1px 2px rgba(0, 0, 0, 0.3));\n",
              "      fill: #FFFFFF;\n",
              "    }\n",
              "  </style>\n",
              "\n",
              "      <script>\n",
              "        const buttonEl =\n",
              "          document.querySelector('#df-0f2298dd-3a51-45f9-8e45-d1ec40253985 button.colab-df-convert');\n",
              "        buttonEl.style.display =\n",
              "          google.colab.kernel.accessAllowed ? 'block' : 'none';\n",
              "\n",
              "        async function convertToInteractive(key) {\n",
              "          const element = document.querySelector('#df-0f2298dd-3a51-45f9-8e45-d1ec40253985');\n",
              "          const dataTable =\n",
              "            await google.colab.kernel.invokeFunction('convertToInteractive',\n",
              "                                                     [key], {});\n",
              "          if (!dataTable) return;\n",
              "\n",
              "          const docLinkHtml = 'Like what you see? Visit the ' +\n",
              "            '<a target=\"_blank\" href=https://colab.research.google.com/notebooks/data_table.ipynb>data table notebook</a>'\n",
              "            + ' to learn more about interactive tables.';\n",
              "          element.innerHTML = '';\n",
              "          dataTable['output_type'] = 'display_data';\n",
              "          await google.colab.output.renderOutput(dataTable, element);\n",
              "          const docLink = document.createElement('div');\n",
              "          docLink.innerHTML = docLinkHtml;\n",
              "          element.appendChild(docLink);\n",
              "        }\n",
              "      </script>\n",
              "    </div>\n",
              "  </div>\n",
              "  "
            ]
          },
          "metadata": {},
          "execution_count": 36
        }
      ],
      "source": [
        "books_new.head(3)"
      ]
    },
    {
      "cell_type": "code",
      "execution_count": 37,
      "metadata": {
        "colab": {
          "base_uri": "https://localhost:8080/",
          "height": 394
        },
        "id": "jlDnQ_MUP8QN",
        "outputId": "c6575199-4d09-4f8e-8cb9-c095bffd6514"
      },
      "outputs": [
        {
          "output_type": "execute_result",
          "data": {
            "text/plain": [
              "                                         Title  \\\n",
              "0                     Fundamentals of Wavelets   \n",
              "1                                   Data Smart   \n",
              "2                     God Created the Integers   \n",
              "3                            Superfreakonomics   \n",
              "4                                  Orientalism   \n",
              "5   Nature of Statistical Learning Theory, The   \n",
              "6             Integration of the Indian States   \n",
              "7                         Drunkard's Walk, The   \n",
              "8   Image Processing & Mathematical Morphology   \n",
              "9            How to Think Like Sherlock Holmes   \n",
              "10                     Data Scientists at Work   \n",
              "\n",
              "                                              Tags  \\\n",
              "0     tech signal_processing Goswami Jaideva Wiley   \n",
              "1             tech data_science Foreman John Wiley   \n",
              "2         tech mathematics Hawking Stephen Penguin   \n",
              "3   science economics Dubner Stephen HarperCollins   \n",
              "4           nonfiction history Said Edward Penguin   \n",
              "5       tech data_science Vapnik Vladimir Springer   \n",
              "6      nonfiction history Menon VP OrientBlackswan   \n",
              "7     science mathematics Mlodinow Leonard Penguin   \n",
              "8            tech signal_processing Shih Frank CRC   \n",
              "9    nonfiction psychology Konnikova Maria Penguin   \n",
              "10     tech data_science SebastianGutierrez Apress   \n",
              "\n",
              "                                                 Path  \n",
              "0   https://m.media-amazon.com/images/I/517bE6-Wub...  \n",
              "1   https://images-na.ssl-images-amazon.com/images...  \n",
              "2   https://sslimages.shoppersstop.com/B8AC9759D45...  \n",
              "3   https://images-na.ssl-images-amazon.com/images...  \n",
              "4   https://images-na.ssl-images-amazon.com/images...  \n",
              "5   https://media.springernature.com/w306/springer...  \n",
              "6   https://images-na.ssl-images-amazon.com/images...  \n",
              "7   https://images-na.ssl-images-amazon.com/images...  \n",
              "8   https://n4.sdlcdn.com/imgs/b/k/x/Image-Process...  \n",
              "9   https://images-na.ssl-images-amazon.com/images...  \n",
              "10  https://images-na.ssl-images-amazon.com/images...  "
            ],
            "text/html": [
              "\n",
              "  <div id=\"df-530258b8-626f-4a44-9560-7909a1fd98d8\">\n",
              "    <div class=\"colab-df-container\">\n",
              "      <div>\n",
              "<style scoped>\n",
              "    .dataframe tbody tr th:only-of-type {\n",
              "        vertical-align: middle;\n",
              "    }\n",
              "\n",
              "    .dataframe tbody tr th {\n",
              "        vertical-align: top;\n",
              "    }\n",
              "\n",
              "    .dataframe thead th {\n",
              "        text-align: right;\n",
              "    }\n",
              "</style>\n",
              "<table border=\"1\" class=\"dataframe\">\n",
              "  <thead>\n",
              "    <tr style=\"text-align: right;\">\n",
              "      <th></th>\n",
              "      <th>Title</th>\n",
              "      <th>Tags</th>\n",
              "      <th>Path</th>\n",
              "    </tr>\n",
              "  </thead>\n",
              "  <tbody>\n",
              "    <tr>\n",
              "      <th>0</th>\n",
              "      <td>Fundamentals of Wavelets</td>\n",
              "      <td>tech signal_processing Goswami Jaideva Wiley</td>\n",
              "      <td>https://m.media-amazon.com/images/I/517bE6-Wub...</td>\n",
              "    </tr>\n",
              "    <tr>\n",
              "      <th>1</th>\n",
              "      <td>Data Smart</td>\n",
              "      <td>tech data_science Foreman John Wiley</td>\n",
              "      <td>https://images-na.ssl-images-amazon.com/images...</td>\n",
              "    </tr>\n",
              "    <tr>\n",
              "      <th>2</th>\n",
              "      <td>God Created the Integers</td>\n",
              "      <td>tech mathematics Hawking Stephen Penguin</td>\n",
              "      <td>https://sslimages.shoppersstop.com/B8AC9759D45...</td>\n",
              "    </tr>\n",
              "    <tr>\n",
              "      <th>3</th>\n",
              "      <td>Superfreakonomics</td>\n",
              "      <td>science economics Dubner Stephen HarperCollins</td>\n",
              "      <td>https://images-na.ssl-images-amazon.com/images...</td>\n",
              "    </tr>\n",
              "    <tr>\n",
              "      <th>4</th>\n",
              "      <td>Orientalism</td>\n",
              "      <td>nonfiction history Said Edward Penguin</td>\n",
              "      <td>https://images-na.ssl-images-amazon.com/images...</td>\n",
              "    </tr>\n",
              "    <tr>\n",
              "      <th>5</th>\n",
              "      <td>Nature of Statistical Learning Theory, The</td>\n",
              "      <td>tech data_science Vapnik Vladimir Springer</td>\n",
              "      <td>https://media.springernature.com/w306/springer...</td>\n",
              "    </tr>\n",
              "    <tr>\n",
              "      <th>6</th>\n",
              "      <td>Integration of the Indian States</td>\n",
              "      <td>nonfiction history Menon VP OrientBlackswan</td>\n",
              "      <td>https://images-na.ssl-images-amazon.com/images...</td>\n",
              "    </tr>\n",
              "    <tr>\n",
              "      <th>7</th>\n",
              "      <td>Drunkard's Walk, The</td>\n",
              "      <td>science mathematics Mlodinow Leonard Penguin</td>\n",
              "      <td>https://images-na.ssl-images-amazon.com/images...</td>\n",
              "    </tr>\n",
              "    <tr>\n",
              "      <th>8</th>\n",
              "      <td>Image Processing &amp; Mathematical Morphology</td>\n",
              "      <td>tech signal_processing Shih Frank CRC</td>\n",
              "      <td>https://n4.sdlcdn.com/imgs/b/k/x/Image-Process...</td>\n",
              "    </tr>\n",
              "    <tr>\n",
              "      <th>9</th>\n",
              "      <td>How to Think Like Sherlock Holmes</td>\n",
              "      <td>nonfiction psychology Konnikova Maria Penguin</td>\n",
              "      <td>https://images-na.ssl-images-amazon.com/images...</td>\n",
              "    </tr>\n",
              "    <tr>\n",
              "      <th>10</th>\n",
              "      <td>Data Scientists at Work</td>\n",
              "      <td>tech data_science SebastianGutierrez Apress</td>\n",
              "      <td>https://images-na.ssl-images-amazon.com/images...</td>\n",
              "    </tr>\n",
              "  </tbody>\n",
              "</table>\n",
              "</div>\n",
              "      <button class=\"colab-df-convert\" onclick=\"convertToInteractive('df-530258b8-626f-4a44-9560-7909a1fd98d8')\"\n",
              "              title=\"Convert this dataframe to an interactive table.\"\n",
              "              style=\"display:none;\">\n",
              "        \n",
              "  <svg xmlns=\"http://www.w3.org/2000/svg\" height=\"24px\"viewBox=\"0 0 24 24\"\n",
              "       width=\"24px\">\n",
              "    <path d=\"M0 0h24v24H0V0z\" fill=\"none\"/>\n",
              "    <path d=\"M18.56 5.44l.94 2.06.94-2.06 2.06-.94-2.06-.94-.94-2.06-.94 2.06-2.06.94zm-11 1L8.5 8.5l.94-2.06 2.06-.94-2.06-.94L8.5 2.5l-.94 2.06-2.06.94zm10 10l.94 2.06.94-2.06 2.06-.94-2.06-.94-.94-2.06-.94 2.06-2.06.94z\"/><path d=\"M17.41 7.96l-1.37-1.37c-.4-.4-.92-.59-1.43-.59-.52 0-1.04.2-1.43.59L10.3 9.45l-7.72 7.72c-.78.78-.78 2.05 0 2.83L4 21.41c.39.39.9.59 1.41.59.51 0 1.02-.2 1.41-.59l7.78-7.78 2.81-2.81c.8-.78.8-2.07 0-2.86zM5.41 20L4 18.59l7.72-7.72 1.47 1.35L5.41 20z\"/>\n",
              "  </svg>\n",
              "      </button>\n",
              "      \n",
              "  <style>\n",
              "    .colab-df-container {\n",
              "      display:flex;\n",
              "      flex-wrap:wrap;\n",
              "      gap: 12px;\n",
              "    }\n",
              "\n",
              "    .colab-df-convert {\n",
              "      background-color: #E8F0FE;\n",
              "      border: none;\n",
              "      border-radius: 50%;\n",
              "      cursor: pointer;\n",
              "      display: none;\n",
              "      fill: #1967D2;\n",
              "      height: 32px;\n",
              "      padding: 0 0 0 0;\n",
              "      width: 32px;\n",
              "    }\n",
              "\n",
              "    .colab-df-convert:hover {\n",
              "      background-color: #E2EBFA;\n",
              "      box-shadow: 0px 1px 2px rgba(60, 64, 67, 0.3), 0px 1px 3px 1px rgba(60, 64, 67, 0.15);\n",
              "      fill: #174EA6;\n",
              "    }\n",
              "\n",
              "    [theme=dark] .colab-df-convert {\n",
              "      background-color: #3B4455;\n",
              "      fill: #D2E3FC;\n",
              "    }\n",
              "\n",
              "    [theme=dark] .colab-df-convert:hover {\n",
              "      background-color: #434B5C;\n",
              "      box-shadow: 0px 1px 3px 1px rgba(0, 0, 0, 0.15);\n",
              "      filter: drop-shadow(0px 1px 2px rgba(0, 0, 0, 0.3));\n",
              "      fill: #FFFFFF;\n",
              "    }\n",
              "  </style>\n",
              "\n",
              "      <script>\n",
              "        const buttonEl =\n",
              "          document.querySelector('#df-530258b8-626f-4a44-9560-7909a1fd98d8 button.colab-df-convert');\n",
              "        buttonEl.style.display =\n",
              "          google.colab.kernel.accessAllowed ? 'block' : 'none';\n",
              "\n",
              "        async function convertToInteractive(key) {\n",
              "          const element = document.querySelector('#df-530258b8-626f-4a44-9560-7909a1fd98d8');\n",
              "          const dataTable =\n",
              "            await google.colab.kernel.invokeFunction('convertToInteractive',\n",
              "                                                     [key], {});\n",
              "          if (!dataTable) return;\n",
              "\n",
              "          const docLinkHtml = 'Like what you see? Visit the ' +\n",
              "            '<a target=\"_blank\" href=https://colab.research.google.com/notebooks/data_table.ipynb>data table notebook</a>'\n",
              "            + ' to learn more about interactive tables.';\n",
              "          element.innerHTML = '';\n",
              "          dataTable['output_type'] = 'display_data';\n",
              "          await google.colab.output.renderOutput(dataTable, element);\n",
              "          const docLink = document.createElement('div');\n",
              "          docLink.innerHTML = docLinkHtml;\n",
              "          element.appendChild(docLink);\n",
              "        }\n",
              "      </script>\n",
              "    </div>\n",
              "  </div>\n",
              "  "
            ]
          },
          "metadata": {},
          "execution_count": 37
        }
      ],
      "source": [
        "## crreating a new dataframe with tags ,title and path\n",
        "new_df=books_new[[\"Title\",\"Tags\",\"Path\"]]\n",
        "new_df.head(11)"
      ]
    },
    {
      "cell_type": "code",
      "execution_count": 38,
      "metadata": {
        "colab": {
          "base_uri": "https://localhost:8080/",
          "height": 35
        },
        "id": "q3DZKQM6P8xP",
        "outputId": "e4e900c6-f62a-4b66-e030-6b21761134f7"
      },
      "outputs": [
        {
          "output_type": "execute_result",
          "data": {
            "text/plain": [
              "'tech signal_processing Goswami Jaideva Wiley'"
            ],
            "application/vnd.google.colaboratory.intrinsic+json": {
              "type": "string"
            }
          },
          "metadata": {},
          "execution_count": 38
        }
      ],
      "source": [
        "new_df[\"Tags\"][0]"
      ]
    },
    {
      "cell_type": "code",
      "execution_count": 39,
      "metadata": {
        "colab": {
          "base_uri": "https://localhost:8080/"
        },
        "id": "Rsrl49R7WfeA",
        "outputId": "85abc6e5-8714-426a-e8f2-9a63e32fcf1f"
      },
      "outputs": [
        {
          "output_type": "execute_result",
          "data": {
            "text/plain": [
              "0.0"
            ]
          },
          "metadata": {},
          "execution_count": 39
        }
      ],
      "source": [
        "## checking null values in tags columns\n",
        "new_df[\"Tags\"].isnull().sum()/new_df.shape[0] *100"
      ]
    },
    {
      "cell_type": "code",
      "execution_count": 40,
      "metadata": {
        "colab": {
          "base_uri": "https://localhost:8080/"
        },
        "id": "gFkCCkknWIhG",
        "outputId": "0a0678c5-19c9-4060-c151-0fc66583da7a"
      },
      "outputs": [
        {
          "output_type": "stream",
          "name": "stderr",
          "text": [
            "/usr/local/lib/python3.7/dist-packages/ipykernel_launcher.py:2: SettingWithCopyWarning: \n",
            "A value is trying to be set on a copy of a slice from a DataFrame.\n",
            "Try using .loc[row_indexer,col_indexer] = value instead\n",
            "\n",
            "See the caveats in the documentation: https://pandas.pydata.org/pandas-docs/stable/user_guide/indexing.html#returning-a-view-versus-a-copy\n",
            "  \n"
          ]
        }
      ],
      "source": [
        "## converting all the tags to lowercase\n",
        "new_df[\"Tags\"] = new_df[\"Tags\"].apply(lambda x: x.lower())"
      ]
    },
    {
      "cell_type": "code",
      "execution_count": 41,
      "metadata": {
        "colab": {
          "base_uri": "https://localhost:8080/"
        },
        "id": "H6-KVhKFWune",
        "outputId": "9a06b913-44b5-4731-e018-a51864683014"
      },
      "outputs": [
        {
          "output_type": "execute_result",
          "data": {
            "text/plain": [
              "array([0, 0, 0, 0, 0, 0, 0, 0, 0, 0, 0, 0, 0, 0, 0, 0, 0, 0, 0, 0, 0, 0,\n",
              "       0, 0, 0, 0, 0, 0, 0, 0, 0, 0, 0, 0, 0, 0, 0, 0, 0, 0, 0, 0, 0, 0,\n",
              "       0, 0, 0, 0, 0, 0, 0, 0, 0, 0, 0, 0, 0, 0, 0, 0, 0, 0, 0, 0, 0, 0,\n",
              "       0, 0, 0, 0, 0, 0, 0, 0, 0, 0, 0, 0, 0, 0, 0, 0, 0, 0, 0, 0, 0, 0,\n",
              "       0, 0, 0, 1, 0, 0, 0, 0, 0, 0, 0, 0, 0, 0, 0, 0, 0, 0, 0, 0, 0, 0,\n",
              "       0, 0, 1, 0, 0, 0, 0, 0, 0, 0, 0, 0, 0, 0, 0, 0, 0, 0, 0, 0, 0, 0,\n",
              "       0, 0, 0, 0, 0, 0, 0, 0, 0, 0, 0, 0, 0, 0, 0, 0, 0, 0, 0, 0, 0, 0,\n",
              "       0, 0, 0, 0, 0, 0, 0, 0, 0, 0, 0, 0, 0, 0, 0, 0, 0, 0, 0, 0, 0, 0,\n",
              "       0, 0, 0, 0, 0, 0, 0, 0, 0, 0, 0, 0, 0, 0, 0, 0, 0, 0, 0, 0, 0, 0,\n",
              "       0, 0, 0, 0, 0, 0, 0, 0, 0, 0, 0, 1, 0, 0, 0, 0, 0, 0, 0, 0, 0, 0,\n",
              "       0, 0, 0, 0, 0, 0, 0, 1, 0, 0, 0, 0, 0, 0, 0, 0, 0, 0, 0, 0, 0, 0,\n",
              "       0, 0, 0, 0, 0, 0, 1, 0, 0, 0, 0, 0, 0, 0])"
            ]
          },
          "metadata": {},
          "execution_count": 41
        }
      ],
      "source": [
        "## transforming the tags into vectors\n",
        "cv=CountVectorizer(max_features=1000)\n",
        "vectors =cv.fit_transform(new_df[\"Tags\"]).toarray()\n",
        "vectors[0]"
      ]
    },
    {
      "cell_type": "code",
      "execution_count": 42,
      "metadata": {
        "colab": {
          "base_uri": "https://localhost:8080/"
        },
        "id": "ihmUXY9ZmlN0",
        "outputId": "9a76ab80-3eb4-4a7b-fe11-dac4fa2ae4a1"
      },
      "outputs": [
        {
          "output_type": "stream",
          "name": "stderr",
          "text": [
            "/usr/local/lib/python3.7/dist-packages/sklearn/utils/deprecation.py:87: FutureWarning: Function get_feature_names is deprecated; get_feature_names is deprecated in 1.0 and will be removed in 1.2. Please use get_feature_names_out instead.\n",
            "  warnings.warn(msg, category=FutureWarning)\n"
          ]
        },
        {
          "output_type": "execute_result",
          "data": {
            "text/plain": [
              "['abraham', 'ackroyd', 'adam', 'adolf', 'albert']"
            ]
          },
          "metadata": {},
          "execution_count": 42
        }
      ],
      "source": [
        "## first 5 feature names\n",
        "cv.get_feature_names()[:5]"
      ]
    },
    {
      "cell_type": "code",
      "source": [
        "## similarity score\n",
        "similarity=cosine_similarity(vectors)\n",
        "\n",
        "## Recommending books based on the similarity score\n",
        "def recommend(book):\n",
        "  book_index=new_df[new_df[\"Title\"]==book].index[0]\n",
        "  distances=similarity[book_index]\n",
        "  recommended_books = sorted(list(enumerate(distances)),reverse=True,key=lambda x:x[1])[1:6]\n",
        "  for i in recommended_books:\n",
        "    print(new_df.iloc[i[0]].Title)\n",
        "\n",
        "recommend(\"The Idiot\")"
      ],
      "metadata": {
        "colab": {
          "base_uri": "https://localhost:8080/"
        },
        "id": "P1sE6Wu5YUGo",
        "outputId": "579d86ad-84f0-44cc-b85c-79b0e49cffcc"
      },
      "execution_count": 43,
      "outputs": [
        {
          "output_type": "stream",
          "name": "stdout",
          "text": [
            "Crime and Punishment\n",
            "The Prince\n",
            "Phantom of Manhattan, The\n",
            "The Grapes of Wrath\n",
            "Animal Farm\n"
          ]
        }
      ]
    },
    {
      "cell_type": "code",
      "execution_count": 44,
      "metadata": {
        "id": "dl83OKN7qYF3"
      },
      "outputs": [],
      "source": [
        "!pip install -q streamlit\n",
        "import streamlit as st"
      ]
    },
    {
      "cell_type": "code",
      "execution_count": 45,
      "metadata": {
        "id": "_rB11MVGMfXE"
      },
      "outputs": [],
      "source": [
        "## creating pickle file for both similarity and dataframe\n",
        "pickle.dump(new_df,open('book_list.pkl','wb'))\n",
        "pickle.dump(similarity,open('similarity.pkl','wb'))"
      ]
    },
    {
      "cell_type": "code",
      "execution_count": 46,
      "metadata": {
        "colab": {
          "base_uri": "https://localhost:8080/"
        },
        "id": "QzN0hqtG-3Ga",
        "outputId": "8b6beab9-a840-4a32-c935-b541a85fc68e"
      },
      "outputs": [
        {
          "output_type": "stream",
          "name": "stdout",
          "text": [
            "Overwriting app.py\n"
          ]
        }
      ],
      "source": [
        "%%writefile app.py\n",
        "import pickle\n",
        "import streamlit as st\n",
        "import requests\n",
        "\n",
        "def recommend(title):\n",
        "    index = new_df[new_df['Title'] == title].index[0]\n",
        "    distances = sorted(list(enumerate(similarity[index])), reverse=True, key=lambda x: x[1])\n",
        "    recommended_book_names = []\n",
        "    recommended_book_posters = []\n",
        "    for i in distances[1:7]:\n",
        "        books_id = new_df.iloc[i[0]].Path\n",
        "        recommended_book_posters.append(books_id)\n",
        "        recommended_book_names.append(new_df.iloc[i[0]].Title)\n",
        "\n",
        "    return recommended_book_names,recommended_book_posters\n",
        "\n",
        "\n",
        "st.header('Book Recommender System')\n",
        "new_df = pickle.load(open('book_list.pkl','rb'))\n",
        "similarity = pickle.load(open('similarity.pkl','rb'))\n",
        "\n",
        "book_list = new_df['Title'].values\n",
        "selected_book = st.selectbox(\n",
        "    \"Type or select a book from the dropdown\",\n",
        "    book_list\n",
        ")\n",
        "\n",
        "if st.button('Show Recommendation'):\n",
        "    recommended_book_names,recommended_book_posters = recommend(selected_book)\n",
        "    col1,col2,col3 = st.columns(3)\n",
        "    with col1:\n",
        "        st.text(recommended_book_names[0])\n",
        "        st.image(recommended_book_posters[0])\n",
        "    with col1:\n",
        "        st.text(recommended_book_names[1])\n",
        "        st.image(recommended_book_posters[1])\n",
        "\n",
        "    with col2:\n",
        "        st.text(recommended_book_names[2])\n",
        "        st.image(recommended_book_posters[2])\n",
        "    with col2:\n",
        "        st.text(recommended_book_names[3])\n",
        "        st.image(recommended_book_posters[3])\n",
        "    with col3:\n",
        "        st.text(recommended_book_names[4])\n",
        "        st.image(recommended_book_posters[4])\n",
        "    with col3:\n",
        "        st.text(recommended_book_names[5])\n",
        "        st.image(recommended_book_posters[5])"
      ]
    },
    {
      "cell_type": "code",
      "execution_count": null,
      "metadata": {
        "id": "1i81VSfsveuA"
      },
      "outputs": [],
      "source": [
        "!streamlit run app.py & npx localtunnel --port 8501"
      ]
    },
    {
      "cell_type": "code",
      "source": [],
      "metadata": {
        "id": "_9wBJ0z4W03O"
      },
      "execution_count": null,
      "outputs": []
    }
  ],
  "metadata": {
    "colab": {
      "collapsed_sections": [],
      "provenance": []
    },
    "kernelspec": {
      "display_name": "Python 3",
      "name": "python3"
    },
    "language_info": {
      "name": "python"
    }
  },
  "nbformat": 4,
  "nbformat_minor": 0
}